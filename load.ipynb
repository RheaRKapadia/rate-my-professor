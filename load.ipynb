{
 "cells": [
  {
   "cell_type": "code",
   "execution_count": 5,
   "metadata": {},
   "outputs": [],
   "source": [
    "from dotenv import load_dotenv\n",
    "load_dotenv()\n",
    "import os\n",
    "from openai import OpenAI\n",
    "from pinecone import Pinecone, ServerlessSpec"
   ]
  },
  {
   "cell_type": "code",
   "execution_count": 2,
   "metadata": {},
   "outputs": [],
   "source": [
    "pc = Pinecone(api_key=os.getenv(\"PINECONE_API_KEY\"))\n",
    "pc.create_index(\n",
    "    name='rag', dimension=1536, metric='cosine', spec=ServerlessSpec(cloud='aws', region='us-east-1')\n",
    ")"
   ]
  },
  {
   "cell_type": "code",
   "execution_count": 4,
   "metadata": {},
   "outputs": [
    {
     "data": {
      "text/plain": [
       "[{'professor': 'Dr. Alice Johnson',\n",
       "  'subject': 'Data Structures',\n",
       "  'stars': 5,\n",
       "  'review': 'Dr. Johnson provides clear explanations and the projects are very relevant to real-world scenarios. Highly recommend!'},\n",
       " {'professor': 'Dr. Michael Lee',\n",
       "  'subject': 'Operating Systems',\n",
       "  'stars': 4,\n",
       "  'review': 'The course is tough but rewarding. Dr. Lee is knowledgeable but sometimes moves too quickly through material.'},\n",
       " {'professor': 'Dr. Sarah Brown',\n",
       "  'subject': 'Artificial Intelligence',\n",
       "  'stars': 4,\n",
       "  'review': 'Great professor with lots of experience in AI. The workload is heavy but the knowledge gained is worth it.'},\n",
       " {'professor': 'Dr. David Wilson',\n",
       "  'subject': 'Database Systems',\n",
       "  'stars': 3,\n",
       "  'review': 'Dr. Wilson is a good instructor, but the lectures can be a bit dry. The projects are interesting, though.'},\n",
       " {'professor': 'Dr. Emma Davis',\n",
       "  'subject': 'Discrete Mathematics',\n",
       "  'stars': 5,\n",
       "  'review': 'Dr. Davis is amazing! She makes difficult concepts easy to understand and is always willing to help students.'},\n",
       " {'professor': 'Dr. James Miller',\n",
       "  'subject': 'Computer Networks',\n",
       "  'stars': 4,\n",
       "  'review': 'Solid course with a lot of practical information. Dr. Miller is approachable and explains the material well.'},\n",
       " {'professor': 'Dr. Olivia Martinez',\n",
       "  'subject': 'Software Engineering',\n",
       "  'stars': 3,\n",
       "  'review': \"The course is well-organized, but Dr. Martinez's lectures can be a bit monotonous at times.\"},\n",
       " {'professor': 'Dr. William Clark',\n",
       "  'subject': 'Machine Learning',\n",
       "  'stars': 5,\n",
       "  'review': \"Dr. Clark is one of the best professors I've had. His passion for the subject is contagious.\"},\n",
       " {'professor': 'Dr. Sophia Robinson',\n",
       "  'subject': 'Human-Computer Interaction',\n",
       "  'stars': 4,\n",
       "  'review': 'Very interactive and engaging course. Dr. Robinson makes sure everyone participates and understands the content.'},\n",
       " {'professor': 'Dr. Daniel Walker',\n",
       "  'subject': 'Computer Graphics',\n",
       "  'stars': 3,\n",
       "  'review': 'Dr. Walker is knowledgeable, but the course could use more hands-on assignments to reinforce the concepts.'},\n",
       " {'professor': 'Dr. Isabella Scott',\n",
       "  'subject': 'Introduction to Programming',\n",
       "  'stars': 4,\n",
       "  'review': 'Great for beginners. Dr. Scott explains everything thoroughly and is very patient with questions.'},\n",
       " {'professor': 'Dr. Matthew Hall',\n",
       "  'subject': 'Cybersecurity',\n",
       "  'stars': 5,\n",
       "  'review': \"One of the best courses I've taken. Dr. Hall is an expert in the field and the course material is highly relevant.\"},\n",
       " {'professor': 'Dr. Amelia Adams',\n",
       "  'subject': 'Theory of Computation',\n",
       "  'stars': 3,\n",
       "  'review': 'The content is difficult, but Dr. Adams does her best to make it accessible. The exams are tough.'},\n",
       " {'professor': 'Dr. Lucas Baker',\n",
       "  'subject': 'Programming Languages',\n",
       "  'stars': 4,\n",
       "  'review': \"Dr. Baker's enthusiasm for the subject is evident. The course is well-structured and informative.\"},\n",
       " {'professor': 'Dr. Mia Gonzalez',\n",
       "  'subject': 'Computer Architecture',\n",
       "  'stars': 4,\n",
       "  'review': 'Challenging but rewarding course. Dr. Gonzalez is very supportive and provides detailed feedback.'},\n",
       " {'professor': 'Dr. Ethan Perez',\n",
       "  'subject': 'Software Testing',\n",
       "  'stars': 3,\n",
       "  'review': 'Dr. Perez is knowledgeable, but the course could benefit from more practical examples and case studies.'},\n",
       " {'professor': 'Dr. Charlotte Edwards',\n",
       "  'subject': 'Operating Systems',\n",
       "  'stars': 4,\n",
       "  'review': 'Dr. Edwards is great at breaking down complex topics. The course workload is heavy but manageable.'},\n",
       " {'professor': 'Dr. Benjamin Harris',\n",
       "  'subject': 'Algorithms',\n",
       "  'stars': 5,\n",
       "  'review': 'Dr. Harris is an exceptional teacher. His explanations are clear, and the problem sets are very challenging.'},\n",
       " {'professor': 'Dr. Grace Thompson',\n",
       "  'subject': 'Introduction to Computer Science',\n",
       "  'stars': 5,\n",
       "  'review': 'Dr. Thompson makes learning fun and engaging. The course is perfect for students new to computer science.'},\n",
       " {'professor': 'Dr. Alexander King',\n",
       "  'subject': 'Advanced Databases',\n",
       "  'stars': 4,\n",
       "  'review': 'Dr. King knows his stuff. The course is difficult, but he provides a lot of resources to help students succeed.'}]"
      ]
     },
     "execution_count": 4,
     "metadata": {},
     "output_type": "execute_result"
    }
   ],
   "source": [
    "import json\n",
    "data = json.load(open('reviews.json'))\n",
    "data['reviews']"
   ]
  },
  {
   "cell_type": "code",
   "execution_count": null,
   "metadata": {},
   "outputs": [],
   "source": [
    "processed_data = []\n",
    "client = OpenAI()\n",
    "\n",
    "for review in data['reviews']:\n",
    "    response = client.embeddings.create(\n",
    "        input= review['review'],\n",
    "        model='text-embedding-3-small'\n",
    "    )\n",
    "    embedding = response.data[0].embedding\n",
    "    processed_data.append({\n",
    "        'values': embedding,\n",
    "        'id': review[\"professor\"],\n",
    "        'metadata': {\n",
    "            'review': review[\"review\"],\n",
    "            'subject': review[\"subject\"],\n",
    "            'stars': review[\"stars\"]\n",
    "        }\n",
    "    })"
   ]
  }
 ],
 "metadata": {
  "kernelspec": {
   "display_name": "rag",
   "language": "python",
   "name": "python3"
  },
  "language_info": {
   "codemirror_mode": {
    "name": "ipython",
    "version": 3
   },
   "file_extension": ".py",
   "mimetype": "text/x-python",
   "name": "python",
   "nbconvert_exporter": "python",
   "pygments_lexer": "ipython3",
   "version": "3.10.14"
  },
  "orig_nbformat": 4
 },
 "nbformat": 4,
 "nbformat_minor": 2
}
